{
 "cells": [
  {
   "cell_type": "code",
   "execution_count": 5,
   "metadata": {},
   "outputs": [],
   "source": [
    "import os\n",
    "import sympy\n",
    "from sympy.parsing.sympy_parser import parse_expr\n",
    "from sympy.polys.polytools import degree\n",
    "import random\n",
    "from examgen.lib.helper import alpha, digits_nozero, get_coefficients, render, shuffle"
   ]
  },
  {
   "cell_type": "code",
   "execution_count": 1,
   "metadata": {},
   "outputs": [],
   "source": [
    "import wolframalpha\n",
    "client = wolframalpha.Client(\"WR2K94-3VL28J9KAK\")"
   ]
  },
  {
   "cell_type": "code",
   "execution_count": 6,
   "metadata": {},
   "outputs": [],
   "source": [
    "def poly1(x):\n",
    "    vals = sum([k*x**i for i,k in enumerate(reversed(get_coefficients(2)))])\n",
    "    return vals\n",
    "\n",
    "def poly2(x):\n",
    "    vals = sum([k*x**i for i,k in enumerate(reversed(get_coefficients(3)))])\n",
    "    return vals\n",
    "\n",
    "def poly3(x):\n",
    "    vals = sum([k*x**i for i,k in enumerate(reversed(get_coefficients(4)))])\n",
    "    return vals\n",
    "\n",
    "def polyn(x, order=3):\n",
    "    vals = sum([k*x**i for i,k in enumerate(reversed(get_coefficients(order)))])\n",
    "    return vals\n",
    "\n",
    "_functions = [sympy.sin, sympy.cos, sympy.tan, sympy.ln, sympy.sqrt, sympy.exp,\n",
    "              lambda a: a, poly1, poly2, poly3]"
   ]
  },
  {
   "cell_type": "code",
   "execution_count": 30,
   "metadata": {},
   "outputs": [],
   "source": [
    "def make_int_pow_prob_wa(var=\"x\", order=3):\n",
    "    \"\"\"\n",
    "    Generates a n-order polynomial to be integrated.\n",
    "\n",
    "    x : charector for the variable to be solved for. defaults to \"x\".\n",
    "                            OR\n",
    "        a list of possible charectors. A random selection will be made from them.\n",
    "    n : order of the polynomial or a list of possible orders. Defaults to 3.\n",
    "        A random selection will be made from them.\n",
    "\n",
    "    \"\"\"\n",
    "    if isinstance(var, str):\n",
    "        var = sympy.Symbol(var, positive=True)\n",
    "    elif isinstance(var, list):\n",
    "        var = sympy.Symbol(random.choice(var), positive=True)\n",
    "    if isinstance(order, list):\n",
    "        order = random.choice(order)\n",
    "    eq = 0;\n",
    "    sol = 0;\n",
    "    length = random.randint(1,3)\n",
    "    for i in range(1,length+1):\n",
    "        a = random.randint(1,10)*random.choice([-1,1])\n",
    "        b = random.randint(1,10)\n",
    "        n = random.randint(1,5)\n",
    "        while (not n%order):\n",
    "            n = random.randint(1,5)\n",
    "        if (True):\n",
    "            sign = random.choice([-1,1])\n",
    "            eq += sympy.Rational(a,b)*(var**sympy.Rational(n,order))**sign\n",
    "            sol+= sympy.Rational(a*n,b*order)*(var**(sympy.Rational(n*sign,order)-1))\n",
    "        else:\n",
    "            eq += (sympy.Rational(a,b)*sympy.root(var**n,order))**random.choice([-1,1])\n",
    "    \n",
    "    sol = sympy.latex(sympy.powsimp(sympy.integrate(eq, var), combine='all',force=True))\n",
    "    eq = sympy.latex(sympy.Integral(eq, var))\n",
    "    eq = 'd'.join(eq.split(\"\\\\partial\"))\n",
    "    eq = \"$$\" + eq + \"$$\"\n",
    "    sol = \"$$\" + sol + \" + C $$\"\n",
    "    return eq, sol"
   ]
  },
  {
   "cell_type": "code",
   "execution_count": 32,
   "metadata": {},
   "outputs": [],
   "source": [
    "eq,sol=make_int_pow_prob_wa()"
   ]
  },
  {
   "cell_type": "code",
   "execution_count": 26,
   "metadata": {},
   "outputs": [],
   "source": [
    "res = client.query(eq)"
   ]
  },
  {
   "cell_type": "code",
   "execution_count": 27,
   "metadata": {},
   "outputs": [
    {
     "name": "stdout",
     "output_type": "stream",
     "text": [
      "-(20 x^(5/3))/7 - 10/(7 x^(2/3))\n"
     ]
    }
   ],
   "source": [
    "print(next(res.results).text)"
   ]
  },
  {
   "cell_type": "code",
   "execution_count": 33,
   "metadata": {},
   "outputs": [
    {
     "data": {
      "text/plain": [
       "'$$\\\\int \\\\left(- \\\\frac{5 x^{\\\\frac{5}{3}}}{2} + \\\\frac{5}{2 x^{\\\\frac{5}{3}}}\\\\right)\\\\, dx$$'"
      ]
     },
     "execution_count": 33,
     "metadata": {},
     "output_type": "execute_result"
    }
   ],
   "source": [
    "eq"
   ]
  },
  {
   "cell_type": "code",
   "execution_count": 34,
   "metadata": {},
   "outputs": [
    {
     "data": {
      "text/plain": [
       "'$$- \\\\frac{15 x^{\\\\frac{8}{3}}}{16} - \\\\frac{15}{4 x^{\\\\frac{2}{3}}} + C $$'"
      ]
     },
     "execution_count": 34,
     "metadata": {},
     "output_type": "execute_result"
    }
   ],
   "source": [
    "sol"
   ]
  },
  {
   "cell_type": "code",
   "execution_count": null,
   "metadata": {},
   "outputs": [],
   "source": []
  }
 ],
 "metadata": {
  "kernelspec": {
   "display_name": "Python 3",
   "language": "python",
   "name": "python3"
  },
  "language_info": {
   "codemirror_mode": {
    "name": "ipython",
    "version": 3
   },
   "file_extension": ".py",
   "mimetype": "text/x-python",
   "name": "python",
   "nbconvert_exporter": "python",
   "pygments_lexer": "ipython3",
   "version": "3.5.2"
  }
 },
 "nbformat": 4,
 "nbformat_minor": 2
}
